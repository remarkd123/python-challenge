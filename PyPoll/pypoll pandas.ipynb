{
 "cells": [
  {
   "cell_type": "code",
   "execution_count": 26,
   "metadata": {},
   "outputs": [],
   "source": [
    "# import modules\n",
    "import os\n",
    "import csv\n",
    "# from csv import DictReader\n",
    "\n",
    "# set files paths\n",
    "ballot_csv = os.path.join(\"Resources\", \"election_data.csv\")\n",
    "# Assign a variable to save the file to a path.\n",
    "results_out = os.path.join(\"Analysis\", \"election_analysis.txt\")\n",
    "\n",
    "# Lists to store data\n",
    "ballot_id = []\n",
    "ballot_county = []\n",
    "ballot_vote = []\n",
    "\n",
    "# tally of the total vote\n",
    "tally_vote = 0\n",
    "\n",
    "# List of candidates\n",
    "candidate_list = []\n",
    "\n",
    "# tally of votes for each candidate\n",
    "candidate_votes = {}\n",
    "\n",
    "# Track the winning candidate, vote count, and percentage of the vote\n",
    "winning_candidate = \"\"\n",
    "winning_count = 0\n",
    "winning_percentage = 0"
   ]
  },
  {
   "cell_type": "code",
   "execution_count": 27,
   "metadata": {},
   "outputs": [],
   "source": [
    "with open(ballot_csv) as csvfile:\n",
    "    csvreader = csv.reader(csvfile, delimiter=\",\")\n",
    "\n",
    "    # read the header row\n",
    "    headers = next(csvreader)\n",
    "\n",
    "    for row in csvreader:\n",
    "        \n",
    "        # add to the total vote count\n",
    "        tally_vote += 1\n",
    "\n",
    "        # Add date\n",
    "        ballot_id.append(row[0])\n",
    "        \n",
    "        # trans amount list\n",
    "        ballot_county.append(row[1])\n",
    "        \n",
    "        # Sum transactions\n",
    "        ballot_vote.append(row[2])\n",
    "        candidate_name = row[2]\n",
    "        \n",
    "        #determine if the candidate has been counted already\n",
    "        if candidate_name not in candidate_list:\n",
    "            \n",
    "            # if not, add the candidate's name to the list, and set vote counter to zero\n",
    "            candidate_list.append(candidate_name)\n",
    "            candidate_votes[candidate_name] = 0\n",
    "\n",
    "        # if candidate exists on the candidate_list, then increase the vote by one\n",
    "        candidate_votes[candidate_name] += 1"
   ]
  },
  {
   "cell_type": "code",
   "execution_count": 28,
   "metadata": {},
   "outputs": [
    {
     "name": "stdout",
     "output_type": "stream",
     "text": [
      "\n",
      "Election Results\n",
      "-------------------------\n",
      "Total Votes: 369711\n",
      "-------------------------\n",
      "Charles Casper Stockham: 23.049% (85,213)\n",
      "\n",
      "Diana DeGette: 73.812% (272,892)\n",
      "\n",
      "Raymon Anthony Doane: 3.139% (11,606)\n",
      "\n",
      "-------------------------\n",
      "Winner: Diana DeGette\n",
      "-------------------------\n",
      "\n"
     ]
    }
   ],
   "source": [
    "# Save the results to a text file.\n",
    "with open(results_out, \"w\") as txt_file:\n",
    "\n",
    "    # Print out the final vote count.\n",
    "    election_results = (\n",
    "        f\"\\nElection Results\\n\"\n",
    "        f\"-------------------------\\n\"\n",
    "        f\"Total Votes: {tally_vote}\\n\"\n",
    "        f\"-------------------------\\n\")\n",
    "    print(election_results, end=\"\")\n",
    "\n",
    "    # Export the final vote count to the text file.\n",
    "    #results_out.write(election_results)\n",
    "\n",
    "    # Determine the percentage of votes for each candidate by looping through the counts.\n",
    "    # Iterate through the candidate list.\n",
    "    for candidate_name in candidate_list:\n",
    "\n",
    "        # Retrieve vote count of a candidate.\n",
    "        votes = candidate_votes[candidate_name]\n",
    "\n",
    "        # Calculate the percentage of votes.\n",
    "        vote_percentage = float(votes) / float(tally_vote) * 100\n",
    "    \n",
    "        # print(f\"{candidate_name}: {vote_percentage:.1f}% ({votes:,})\\n\")\n",
    "        candidate_results = (f\"{candidate_name}: {vote_percentage:.3f}% ({votes})\\n\")\n",
    "\n",
    "        # Print each candidate, their voter count, and percentage.\n",
    "        print(candidate_results)\n",
    "    \n",
    "        # Save each candidate's results to the text file.\n",
    "        #results_out.write(candidate_results)\n",
    "\n",
    "        # Determine winning vote count and candidate\n",
    "    #   # Determine if the votes are greater than the winning count.\n",
    "        if (votes > winning_count) and (vote_percentage > winning_percentage):\n",
    "             # If true then set winning_count = votes and winning_percent =\n",
    "             # vote_percentage.\n",
    "             winning_count = votes\n",
    "             winning_percentage = vote_percentage\n",
    "             # And, set the winning_candidate equal to the candidate's name.\n",
    "             winning_candidate = candidate_name\n",
    "    \n",
    "    # #  Print the winning candidate, vote count and percentage to the terminal.\n",
    "    winning_candidate_summary = (\n",
    "        f\"-------------------------\\n\"\n",
    "        f\"Winner: {winning_candidate}\\n\"\n",
    "        f\"-------------------------\\n\")\n",
    "    print(winning_candidate_summary)\n",
    "    # Save the winning candidate's name to the text file.\n",
    "    # txt_file.write(winning_candidate_summary)"
   ]
  },
  {
   "cell_type": "code",
   "execution_count": 21,
   "metadata": {},
   "outputs": [
    {
     "ename": "SyntaxError",
     "evalue": "invalid syntax (343283170.py, line 3)",
     "output_type": "error",
     "traceback": [
      "\u001b[1;36m  Input \u001b[1;32mIn [21]\u001b[1;36m\u001b[0m\n\u001b[1;33m    for each candidate_name in candidate_list:\u001b[0m\n\u001b[1;37m             ^\u001b[0m\n\u001b[1;31mSyntaxError\u001b[0m\u001b[1;31m:\u001b[0m invalid syntax\n"
     ]
    }
   ],
   "source": [
    "# Determine the percentage of votes for each candidate by looping through the counts.\n",
    "# Iterate through the candidate list.\n",
    "for candidate_name in candidate_list:\n",
    "\n",
    "    # Retrieve vote count of a candidate.\n",
    "    votes = candidate_votes[candidate_name]\n",
    "\n",
    "    # Calculate the percentage of votes.\n",
    "    vote_percentage = float(votes) / float(tally_vote) * 100\n",
    "    \n",
    "    # print(f\"{candidate_name}: {vote_percentage:.1f}% ({votes:,})\\n\")\n",
    "    candidate_results = (f\"{candidate_name}: {vote_percentage:.3f}% ({votes:,})\\n\")\n",
    "\n",
    "    # Print each candidate, their voter count, and percentage.\n",
    "    print(candidate_results)\n",
    "    \n",
    "    # Save each candidate's results to the text file.\n",
    "    results_out.write(candidate_results)"
   ]
  },
  {
   "cell_type": "code",
   "execution_count": null,
   "metadata": {},
   "outputs": [],
   "source": [
    "for candidate_name in candidate_votes:\n",
    "\n",
    "        # Retrieve vote count and percentage\n",
    "        votes = candidate_votes.get(candidate_name)\n",
    "        vote_percentage = float(votes) / float(total_votes) * 100\n",
    "        candidate_results = (\n",
    "            f\"{candidate_name}: {vote_percentage:.1f}% ({votes:,})\\n\")\n",
    "\n",
    "        # Print each candidate's voter count and percentage to the\n",
    "        # terminal.\n",
    "        print(candidate_results)\n",
    "        #  Save the candidate results to our text file.\n",
    "        txt_file.write(candidate_results)"
   ]
  },
  {
   "cell_type": "code",
   "execution_count": null,
   "metadata": {},
   "outputs": [],
   "source": []
  },
  {
   "cell_type": "code",
   "execution_count": null,
   "metadata": {},
   "outputs": [],
   "source": []
  },
  {
   "cell_type": "code",
   "execution_count": 14,
   "metadata": {},
   "outputs": [
    {
     "name": "stdout",
     "output_type": "stream",
     "text": [
      "369711\n",
      "['Diana DeGette', 'Charles Casper Stockham', 'Raymon Anthony Doane']\n"
     ]
    }
   ],
   "source": [
    "total_votes = len(ballot_id)\n",
    "print(total_votes)\n",
    "\n",
    "\n",
    "\n",
    "\n",
    "ballot_vote.pop(0)\n",
    "ballot_county.pop(0)\n",
    "ballot_id.pop(0)\n",
    "\n",
    "vote_set = set(ballot_vote)\n",
    "vote_candidates = list(vote_set)\n",
    "print(vote_candidates)"
   ]
  },
  {
   "cell_type": "code",
   "execution_count": 1,
   "metadata": {},
   "outputs": [
    {
     "ename": "NameError",
     "evalue": "name 'trans_amt' is not defined",
     "output_type": "error",
     "traceback": [
      "\u001b[1;31m---------------------------------------------------------------------------\u001b[0m",
      "\u001b[1;31mNameError\u001b[0m                                 Traceback (most recent call last)",
      "\u001b[1;32me:\\workdocs\\Repos\\Challenge3\\PyBank\\pandas_reading_files.ipynb Cell 4\u001b[0m in \u001b[0;36m<cell line: 2>\u001b[1;34m()\u001b[0m\n\u001b[0;32m      <a href='vscode-notebook-cell:/e%3A/workdocs/Repos/Challenge3/PyBank/pandas_reading_files.ipynb#W3sZmlsZQ%3D%3D?line=0'>1</a>\u001b[0m \u001b[39m# ### To get Change of month\u001b[39;00m\n\u001b[1;32m----> <a href='vscode-notebook-cell:/e%3A/workdocs/Repos/Challenge3/PyBank/pandas_reading_files.ipynb#W3sZmlsZQ%3D%3D?line=1'>2</a>\u001b[0m \u001b[39mfor\u001b[39;00m i \u001b[39min\u001b[39;00m \u001b[39mrange\u001b[39m(\u001b[39m1\u001b[39m, \u001b[39mint\u001b[39m(\u001b[39mlen\u001b[39m(trans_amt))):\n\u001b[0;32m      <a href='vscode-notebook-cell:/e%3A/workdocs/Repos/Challenge3/PyBank/pandas_reading_files.ipynb#W3sZmlsZQ%3D%3D?line=2'>3</a>\u001b[0m     \u001b[39mif\u001b[39;00m i \u001b[39m==\u001b[39m \u001b[39m1\u001b[39m:\n\u001b[0;32m      <a href='vscode-notebook-cell:/e%3A/workdocs/Repos/Challenge3/PyBank/pandas_reading_files.ipynb#W3sZmlsZQ%3D%3D?line=3'>4</a>\u001b[0m           account \u001b[39m=\u001b[39m trans_amt\n",
      "\u001b[1;31mNameError\u001b[0m: name 'trans_amt' is not defined"
     ]
    }
   ],
   "source": [
    "for\n",
    "\n",
    "for i in 1 to len(ballot_id)\n",
    "    if ballot_vote(i) = vote_candidates(0):\n",
    "        candidate1 += 1"
   ]
  },
  {
   "cell_type": "code",
   "execution_count": null,
   "metadata": {},
   "outputs": [],
   "source": [
    "# for index in range(len(profits_loses)-1):     <indent>profit_changes.append(profits_loses[index+1] - profits_loses[index])\n",
    "#    greatest_increase = max(profit_changes)\n",
    "#   greatest_increase_month = profit_changes.index(max(profit_changes))+1\n",
    "#   greatest_decrease = min(profit_changes)\n",
    "#   greatest_decrease_month = profit_changes.index(min(profit_changes))+1\n",
    "\n",
    "\n",
    "for i in range(1, int(len(revenue))):\n",
    "    change.append(revenue[i] - revenue[i-1])\n",
    "    avg_change = round(sum(change)/len(change),2)\n",
    "    max_change = max(change)\n",
    "    min_change = min(change)\n",
    "    # Must add 1 to account for the first month not having a previous\n",
    "    max_change_date = str(date[change.index(max(change)) + 1])\n",
    "    min_change_date = str(date[change.index(min(change)) + 1])"
   ]
  },
  {
   "cell_type": "code",
   "execution_count": null,
   "metadata": {},
   "outputs": [],
   "source": [
    "# def average(numbers)\n",
    "#     length = len(numbers)\n",
    "#     total = 0.0\n",
    "\n",
    "#     for number in numbers:\n",
    "#         total += number\n",
    "#     return total/lengthb"
   ]
  },
  {
   "cell_type": "code",
   "execution_count": null,
   "metadata": {},
   "outputs": [],
   "source": [
    "# with open(budget_csv, 'r') as f:\n",
    "     \n",
    "#     dict_reader = DictReader(f)\n",
    "     \n",
    "#     ballot_dict = list(dict_reader)\n",
    "   \n",
    "#     # print(ballot_dict)"
   ]
  },
  {
   "cell_type": "code",
   "execution_count": null,
   "metadata": {},
   "outputs": [],
   "source": [
    "# Ballot_cand = \"Candidate\"\n",
    "\n",
    "# list_of_candidates = [ballots[Ballot_cand] for ballots in ballot_dict]\n",
    "\n",
    "# print(list_of_candidates)"
   ]
  }
 ],
 "metadata": {
  "anaconda-cloud": {},
  "kernelspec": {
   "display_name": "Python 3.9.12 ('base')",
   "language": "python",
   "name": "python3"
  },
  "language_info": {
   "codemirror_mode": {
    "name": "ipython",
    "version": 3
   },
   "file_extension": ".py",
   "mimetype": "text/x-python",
   "name": "python",
   "nbconvert_exporter": "python",
   "pygments_lexer": "ipython3",
   "version": "3.9.12"
  },
  "vscode": {
   "interpreter": {
    "hash": "84d8cac4d95fdd2ab02498a6ec40a50cb9882041e67cb52e6d8bcfda00d28db9"
   }
  }
 },
 "nbformat": 4,
 "nbformat_minor": 2
}
